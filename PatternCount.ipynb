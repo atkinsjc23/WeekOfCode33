{
 "cells": [
  {
   "cell_type": "markdown",
   "metadata": {},
   "source": [
    "A string s contains many patterns of the form 1(0+)1 where(0+) represents any non-empty consecutive sequence of 0's. The patterns are allowed to overlap. You have to answer q queries, each containing a string s. For each query, find and print the total number of patterns of the form 1(0+)1 that occur in s. The string s contains more symbols than just 0's and 1's."
   ]
  },
  {
   "cell_type": "code",
   "execution_count": null,
   "metadata": {
    "collapsed": true
   },
   "outputs": [],
   "source": [
    "#!/bin/python3\n",
    "\n",
    "import sys\n",
    "\n",
    "def patternCount(s):\n",
    "    n=len(s)\n",
    "    count=0\n",
    "    i=0\n",
    "    while i<n:\n",
    "        if s[i]!='1':\n",
    "            i+=1\n",
    "        else:\n",
    "            if i>=n-1:\n",
    "                return(count)\n",
    "            elif s[i+1]=='0':\n",
    "                k=i+1\n",
    "                while s[k]=='0':\n",
    "                    k+=1\n",
    "                    if k>=n-1:\n",
    "                        if k==n-1 and s[k]=='1':\n",
    "                            count+=1\n",
    "                            return(count)\n",
    "                        else:\n",
    "                            return(count)\n",
    "                    elif s[k]=='1':\n",
    "                        count+=1\n",
    "                        i=k\n",
    "                    elif s[k]!='0':\n",
    "                        i=k+1\n",
    "            else:\n",
    "                i+=1\n",
    "    return(count)\n",
    "                             \n",
    "        \n",
    "q = int(input().strip())\n",
    "for a0 in range(q):\n",
    "    s = input().strip()\n",
    "    result = patternCount(s)\n",
    "    print(result)\n"
   ]
  }
 ],
 "metadata": {
  "kernelspec": {
   "display_name": "Python [Root]",
   "language": "python",
   "name": "Python [Root]"
  },
  "language_info": {
   "codemirror_mode": {
    "name": "ipython",
    "version": 3
   },
   "file_extension": ".py",
   "mimetype": "text/x-python",
   "name": "python",
   "nbconvert_exporter": "python",
   "pygments_lexer": "ipython3",
   "version": "3.5.2"
  }
 },
 "nbformat": 4,
 "nbformat_minor": 2
}
