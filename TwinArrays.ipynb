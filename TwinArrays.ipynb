{
 "cells": [
  {
   "cell_type": "markdown",
   "metadata": {},
   "source": [
    "You are given two arrays A and B each containing n integers. You need to choose exactly one number from A and exactly one number from B such that the index of the two chosen numbers is not same and the sum of the 2 chosen values is minimum. Your objective is to find and print this minimum value."
   ]
  },
  {
   "cell_type": "code",
   "execution_count": null,
   "metadata": {
    "collapsed": true
   },
   "outputs": [],
   "source": [
    "import sys\n",
    "\n",
    "def twinArrays(ar1, ar2):\n",
    "    #dictionar with keys being distinct entries from a list and storing a list of indices where the key appeared\n",
    "    d1={}\n",
    "    d2={}\n",
    "    for i in range (len(ar1)):\n",
    "        if ar1[i] in d1:\n",
    "            d1[ar1[i]].append(i)\n",
    "        else:\n",
    "            d1[ar1[i]]=[i]\n",
    "        if ar2[i] in d2:\n",
    "            d2[ar2[i]].append(i)\n",
    "        else:\n",
    "            d2[ar2[i]]=[i]\n",
    "    s1=sorted(ar1)\n",
    "    s2=sorted(ar2)\n",
    "    a=s1[0]\n",
    "    b=s2[0]\n",
    "    if set(d1[a])!=set(d2[b]):\n",
    "        return(a+b)\n",
    "    else:\n",
    "        if s1[1]+b<s2[1]+a:\n",
    "            return(s1[1]+b)\n",
    "        else:\n",
    "            return(s2[1]+a)\n",
    "            \n",
    "    \n",
    "n = int(input().strip())\n",
    "ar1 = list(map(int, input().strip().split(' ')))\n",
    "ar2 = list(map(int, input().strip().split(' ')))\n",
    "result = twinArrays(ar1, ar2)\n",
    "print(result)\n"
   ]
  }
 ],
 "metadata": {
  "kernelspec": {
   "display_name": "Python [Root]",
   "language": "python",
   "name": "Python [Root]"
  },
  "language_info": {
   "codemirror_mode": {
    "name": "ipython",
    "version": 3
   },
   "file_extension": ".py",
   "mimetype": "text/x-python",
   "name": "python",
   "nbconvert_exporter": "python",
   "pygments_lexer": "ipython3",
   "version": "3.5.2"
  }
 },
 "nbformat": 4,
 "nbformat_minor": 2
}
